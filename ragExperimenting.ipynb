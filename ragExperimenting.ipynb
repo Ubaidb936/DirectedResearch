{
 "cells": [
  {
   "cell_type": "code",
   "execution_count": 81,
   "id": "576dde23-f949-411a-a4bd-0cf9f7b5e6a5",
   "metadata": {},
   "outputs": [],
   "source": [
    "import shutil\n",
    "import requests\n",
    "from urllib.parse import urlparse\n",
    "import sys\n",
    "from tqdm.notebook import tqdm\n",
    "import pandas as pd\n",
    "from typing import Optional, List, Tuple\n",
    "from langchain_core.language_models import BaseChatModel\n",
    "import json\n",
    "import datasets\n",
    "from langchain.text_splitter import RecursiveCharacterTextSplitter\n",
    "from langchain.docstore.document import Document as LangchainDocument\n",
    "from langchain_community.document_loaders import PyPDFLoader\n",
    "from langchain_community.llms import HuggingFaceHub\n",
    "from langchain_community.chat_models import ChatHuggingFace\n",
    "import os\n",
    "import random\n",
    "import time\n",
    "from datasets import Dataset, DatasetDict\n",
    "import gradio as gr"
   ]
  },
  {
   "cell_type": "code",
   "execution_count": 82,
   "id": "f9e6a805-22f6-483d-8877-617c33d78fef",
   "metadata": {},
   "outputs": [],
   "source": [
    "loader = PyPDFLoader(\"finance1.pdf\")"
   ]
  },
  {
   "cell_type": "code",
   "execution_count": 83,
   "id": "412322e2-6691-4f74-bde8-28bc57e68d86",
   "metadata": {},
   "outputs": [],
   "source": [
    "text_splitter = RecursiveCharacterTextSplitter(\n",
    "        chunk_size=512,  \n",
    "        chunk_overlap=30,\n",
    "        add_start_index=True,\n",
    "        separators=[\"\\n\\n\", \"\\n\", \".\", \" \", \"\"],\n",
    "    )\n",
    "try:\n",
    "    langchain_docs = loader.load_and_split(text_splitter=text_splitter) #loads and slits\n",
    "    #docs = loader.load()\n",
    "    #langchain_docs = text_splitter.split_documents(docs)\n",
    "except Exception as e:\n",
    "    print(\"An error occurred:\", e)\n"
   ]
  },
  {
   "cell_type": "code",
   "execution_count": 84,
   "id": "186166a1-2ae1-40c9-bd26-e15c48a5efc7",
   "metadata": {},
   "outputs": [],
   "source": [
    "from langchain.vectorstores import FAISS\n",
    "from langchain.embeddings import HuggingFaceEmbeddings\n",
    "\n",
    "db = FAISS.from_documents(langchain_docs,\n",
    "                          HuggingFaceEmbeddings(model_name='BAAI/bge-base-en-v1.5'))"
   ]
  },
  {
   "cell_type": "code",
   "execution_count": 85,
   "id": "90bef2aa-c571-4705-a6d8-7383913da4bf",
   "metadata": {},
   "outputs": [],
   "source": [
    "from langchain_core.runnables import RunnablePassthrough"
   ]
  },
  {
   "cell_type": "code",
   "execution_count": 86,
   "id": "13e7636f-6ff6-43de-ba54-f04932fd5ef4",
   "metadata": {},
   "outputs": [
    {
     "data": {
      "application/vnd.jupyter.widget-view+json": {
       "model_id": "b44e09c19f7b4d80b7812b0ff2263e8f",
       "version_major": 2,
       "version_minor": 0
      },
      "text/plain": [
       "Loading checkpoint shards:   0%|          | 0/2 [00:00<?, ?it/s]"
      ]
     },
     "metadata": {},
     "output_type": "display_data"
    }
   ],
   "source": [
    "##tailor this for your own purpose\n",
    "import torch\n",
    "from transformers import AutoTokenizer, AutoModelForCausalLM, BitsAndBytesConfig\n",
    "from peft import PeftModel, PeftConfig\n",
    "\n",
    "model_name = 'Ubaidbhat/Finance'\n",
    "config = PeftConfig.from_pretrained(model_name)\n",
    "bnb_config = BitsAndBytesConfig(\n",
    "    load_in_4bit=True,\n",
    "    bnb_4bit_use_double_quant=True,\n",
    "    bnb_4bit_quant_type=\"nf4\",\n",
    "    bnb_4bit_compute_dtype=torch.bfloat16\n",
    ")\n",
    "d_map = {\"\": torch.cuda.current_device()} if torch.cuda.is_available() else None\n",
    "\n",
    "model = AutoModelForCausalLM.from_pretrained(config.base_model_name_or_path, quantization_config=bnb_config, device_map=d_map)\n",
    "tokenizer = AutoTokenizer.from_pretrained(config.base_model_name_or_path)\n",
    "model = PeftModel.from_pretrained(model, model_name)\n",
    "# model = model.merge_and_unload()"
   ]
  },
  {
   "cell_type": "code",
   "execution_count": 96,
   "id": "d65e9bee-ee65-4224-b809-a2a7787bb2c0",
   "metadata": {},
   "outputs": [],
   "source": [
    "prompt_template = \"\"\"\n",
    "  Below is an instruction that describes a task. Write a response that appropriately completes the request.\n",
    "  ### Instruction:\n",
    "  {query}\n",
    "  \n",
    "  ### Answer:\n",
    "  \"\"\"\n",
    "\n",
    "prompt_template_with_context = \"\"\"\n",
    "  Below is an instruction that describes a task, paired with an input that provides further context. Write a response that \n",
    "  appropriately completes the request.\n",
    "  ### Instruction:\n",
    "  {query}\n",
    "  ### Input:\n",
    "  {input}\n",
    "  \n",
    "  ### Answer:\n",
    "  \"\"\"\n",
    "\n",
    "\n",
    "\n",
    "def extract_answer(message):\n",
    "    # Find the index of '### Answer:'\n",
    "    start_index = message.find('### Answer:')\n",
    "    if start_index != -1:\n",
    "        # Extract the part of the message after '### Answer:'\n",
    "        answer_part = message[start_index + len('### Answer:'):].strip()\n",
    "        # Find the index of the last full stop\n",
    "        last_full_stop_index = answer_part.rfind('.')\n",
    "        if last_full_stop_index != -1:\n",
    "            # Remove the part after the last full stop\n",
    "            answer_part = answer_part[:last_full_stop_index + 1]\n",
    "        return answer_part.strip()  # Remove leading and trailing whitespace\n",
    "    else:\n",
    "        return \"I don't have the answer to this question.....\"\n",
    "\n",
    "\n",
    "#Inference Function............\n",
    "def inferance(prompt: str, model, tokenizer, temp = 1.0, limit = 400, input = False) -> str:\n",
    "  device = \"cuda:0\"\n",
    "  encodeds = tokenizer(prompt, return_tensors=\"pt\", add_special_tokens=True)\n",
    "  model_inputs = encodeds.to(device)\n",
    "  generated_ids = model.generate(**model_inputs, max_new_tokens=limit, do_sample=True, pad_token_id=tokenizer.eos_token_id)\n",
    "  decoded = tokenizer.batch_decode(generated_ids)\n",
    "    \n",
    "  answer  = extract_answer(decoded[0])\n",
    "    \n",
    "  return answer\n"
   ]
  },
  {
   "cell_type": "code",
   "execution_count": null,
   "id": "f102db3c-288a-4363-8547-8e8d01c3fc7f",
   "metadata": {},
   "outputs": [],
   "source": []
  },
  {
   "cell_type": "code",
   "execution_count": null,
   "id": "ec284109-9b09-4511-b2da-8817152e0651",
   "metadata": {},
   "outputs": [],
   "source": []
  },
  {
   "cell_type": "code",
   "execution_count": null,
   "id": "9bc5703f-8db0-4bb0-99dd-81c7bdf17b61",
   "metadata": {},
   "outputs": [],
   "source": []
  },
  {
   "cell_type": "code",
   "execution_count": 100,
   "id": "a3d5154b-7a30-401d-ac1a-d3d2c5c43478",
   "metadata": {},
   "outputs": [
    {
     "name": "stdout",
     "output_type": "stream",
     "text": [
      "Running on local URL:  http://127.0.0.1:7876\n",
      "Running on public URL: https://0c243a494bc322dc0f.gradio.live\n",
      "\n",
      "This share link expires in 72 hours. For free permanent hosting and GPU upgrades, run `gradio deploy` from Terminal to deploy to Spaces (https://huggingface.co/spaces)\n"
     ]
    },
    {
     "data": {
      "text/html": [
       "<div><iframe src=\"https://0c243a494bc322dc0f.gradio.live\" width=\"100%\" height=\"500\" allow=\"autoplay; camera; microphone; clipboard-read; clipboard-write;\" frameborder=\"0\" allowfullscreen></iframe></div>"
      ],
      "text/plain": [
       "<IPython.core.display.HTML object>"
      ]
     },
     "metadata": {},
     "output_type": "display_data"
    },
    {
     "data": {
      "text/plain": []
     },
     "execution_count": 100,
     "metadata": {},
     "output_type": "execute_result"
    }
   ],
   "source": [
    "def predict(type, text):\n",
    "    print(type)\n",
    "    if type == \"Base\":\n",
    "        prompt = prompt_template.format(query=text)\n",
    "        answer = inferance(prompt, model, tokenizer, temp = 1.0, limit = 400, input = False)\n",
    "        return answer\n",
    "    else:\n",
    "        relevantText = db.as_retriever().get_relevant_documents(text)\n",
    "        context = relevantText[0].page_content\n",
    "        prompt = prompt_template_with_context.format(query=text, input = context)\n",
    "        answer = inferance(prompt, model, tokenizer, temp = 1.0, limit = 400, input = False)\n",
    "        return answer\n",
    "\n",
    "pred = gr.Interface(\n",
    "    fn = predict,\n",
    "    inputs=[\n",
    "        \n",
    "        gr.Radio(['Base', 'Context'], label=\"Select One\"),\n",
    "        gr.Textbox(\n",
    "            label=\"Question\",\n",
    "            lines= 2,\n",
    "            value=\"Tell me Anything about Finance...\",\n",
    "        ),\n",
    "    ],\n",
    "    outputs='text',\n",
    "    title=\"Finance\"\n",
    ")\n",
    "\n",
    "pred.launch(share=True)"
   ]
  },
  {
   "cell_type": "code",
   "execution_count": null,
   "id": "dcd903a3-a503-4bad-b0c1-ea3f81913b2d",
   "metadata": {},
   "outputs": [],
   "source": []
  }
 ],
 "metadata": {
  "kernelspec": {
   "display_name": "Python 3 (ipykernel)",
   "language": "python",
   "name": "python3"
  },
  "language_info": {
   "codemirror_mode": {
    "name": "ipython",
    "version": 3
   },
   "file_extension": ".py",
   "mimetype": "text/x-python",
   "name": "python",
   "nbconvert_exporter": "python",
   "pygments_lexer": "ipython3",
   "version": "3.10.12"
  }
 },
 "nbformat": 4,
 "nbformat_minor": 5
}
